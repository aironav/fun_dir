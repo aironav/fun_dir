{
 "cells": [
  {
   "cell_type": "markdown",
   "id": "681ce5c5-1416-4b7c-a340-8740bcd40a93",
   "metadata": {},
   "source": [
    "## password generator"
   ]
  },
  {
   "cell_type": "code",
   "execution_count": 1,
   "id": "5c42880e-66f6-42b5-b728-90a3e3739a10",
   "metadata": {},
   "outputs": [
    {
     "name": "stdin",
     "output_type": "stream",
     "text": [
      "enter how many passwords you want to generate: 9\n",
      "enter the password length: 19\n"
     ]
    },
    {
     "name": "stdout",
     "output_type": "stream",
     "text": [
      "DSJMqj&uh$3mzibCpG!\n",
      "8~^VlNd_mYW|XL\\IGH!\n",
      "$vg\\ /e#;Dxc`kMY!7d\n",
      "5y|sXnU?&,B0T ud/QO\n",
      "+,r?&S.AzNKJ~u^pkLP\n",
      "xEr7|2q/ld_*0<DFcub\n",
      "UC?4=wgd8TR+x5blrZV\n",
      ".?#Pr&ZLvz*~6xBXk:R\n",
      "#K0,@w8lvks2*m TprU\n"
     ]
    }
   ],
   "source": [
    "import random\n",
    "import string\n",
    "letters = string.ascii_letters\n",
    "nums = '1234567809'\n",
    "spe = ' ~!@#$%^&*_=+`;:><.,/?|\\ '\n",
    "symbols = letters + nums + spe\n",
    "k = int(input('enter how many passwords you want to generate:'))\n",
    "len = int(input('enter the password length:'))\n",
    "for i in range(k):\n",
    "    password = ''.join(random.sample(symbols, len))\n",
    "    print(password)"
   ]
  }
 ],
 "metadata": {
  "kernelspec": {
   "display_name": "Python 3 (ipykernel)",
   "language": "python",
   "name": "python3"
  },
  "language_info": {
   "codemirror_mode": {
    "name": "ipython",
    "version": 3
   },
   "file_extension": ".py",
   "mimetype": "text/x-python",
   "name": "python",
   "nbconvert_exporter": "python",
   "pygments_lexer": "ipython3",
   "version": "3.8.12"
  }
 },
 "nbformat": 4,
 "nbformat_minor": 5
}
