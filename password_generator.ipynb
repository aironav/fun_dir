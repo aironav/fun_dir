{
 "cells": [
  {
   "cell_type": "markdown",
   "id": "681ce5c5-1416-4b7c-a340-8740bcd40a93",
   "metadata": {},
   "source": [
    "## password generator"
   ]
  },
  {
   "cell_type": "code",
   "execution_count": 1,
   "id": "5c42880e-66f6-42b5-b728-90a3e3739a10",
   "metadata": {},
   "outputs": [
    {
     "ename": "SyntaxError",
     "evalue": "EOL while scanning string literal (125282829.py, line 6)",
     "output_type": "error",
     "traceback": [
      "\u001b[0;36m  File \u001b[0;32m\"/var/folders/mm/860dj7v16yz0c3_f_fc1dt080000gn/T/ipykernel_4536/125282829.py\"\u001b[0;36m, line \u001b[0;32m6\u001b[0m\n\u001b[0;31m    spe = '~!@#$%^&*_=+`;:><.,/?|\\'\u001b[0m\n\u001b[0m                                   ^\u001b[0m\n\u001b[0;31mSyntaxError\u001b[0m\u001b[0;31m:\u001b[0m EOL while scanning string literal\n"
     ]
    }
   ],
   "source": [
    "import os\n",
    "import random\n",
    "import string\n",
    "letters = string.ascii_letters\n",
    "nums = '1234567809'\n",
    "spe = ' ~!@#$%^&*_=+`;:><.,/?|\\'\n",
    "symbols = letters + nums + spe\n",
    "k = int(input('enter how many passwords you want to generate:'))\n",
    "len = int(input('enter the password length:'))\n",
    "file = open('password.txt', 'w')\n",
    "for i in range(k):\n",
    "    password = ''.join(random.sample(symbols, len))\n",
    "    file.write(password + os.linesep)\n",
    "file.close()"
   ]
  },
  {
   "cell_type": "code",
   "execution_count": null,
   "id": "39500ad7-ab32-4958-9ad2-f7f7787e79cb",
   "metadata": {},
   "outputs": [],
   "source": []
  }
 ],
 "metadata": {
  "kernelspec": {
   "display_name": "Python 3 (ipykernel)",
   "language": "python",
   "name": "python3"
  },
  "language_info": {
   "codemirror_mode": {
    "name": "ipython",
    "version": 3
   },
   "file_extension": ".py",
   "mimetype": "text/x-python",
   "name": "python",
   "nbconvert_exporter": "python",
   "pygments_lexer": "ipython3",
   "version": "3.8.12"
  }
 },
 "nbformat": 4,
 "nbformat_minor": 5
}
