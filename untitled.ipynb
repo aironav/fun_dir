{
 "cells": [
  {
   "cell_type": "markdown",
   "id": "566ec37d-1652-4e69-b35b-407521016518",
   "metadata": {},
   "source": [
    "## time complexity of the bubble sort is 0(n^2)"
   ]
  },
  {
   "cell_type": "code",
   "execution_count": 5,
   "id": "3c96d87e-0738-40d9-9c81-89167a23081d",
   "metadata": {},
   "outputs": [
    {
     "data": {
      "text/plain": [
       "[2, 4, 5, 8, 9]"
      ]
     },
     "execution_count": 5,
     "metadata": {},
     "output_type": "execute_result"
    }
   ],
   "source": [
    "def bubble_sort(arr):\n",
    "    swapped = True\n",
    "    while swapped:\n",
    "        swapped = False\n",
    "        for i in range(len(arr)-1):\n",
    "            if arr[i]>arr[i+1]:\n",
    "                arr[i],arr[i+1] = arr[i+1],arr[i]\n",
    "                swapped = True\n",
    "    return arr\n",
    "\n",
    "bubble_sort([9,5,8,2,4])"
   ]
  },
  {
   "cell_type": "code",
   "execution_count": 8,
   "id": "830e76ea-5c6b-48f4-84f1-7867b9a98a6a",
   "metadata": {},
   "outputs": [],
   "source": [
    "grades = 16"
   ]
  },
  {
   "cell_type": "code",
   "execution_count": 2,
   "id": "0038cc0c-f9fa-470e-ab91-3ac5aa630959",
   "metadata": {},
   "outputs": [
    {
     "data": {
      "text/plain": [
       "3"
      ]
     },
     "execution_count": 2,
     "metadata": {},
     "output_type": "execute_result"
    }
   ],
   "source": [
    "grades // 5"
   ]
  },
  {
   "cell_type": "code",
   "execution_count": 3,
   "id": "76a91939-989e-4075-bb60-a72b32281be2",
   "metadata": {},
   "outputs": [
    {
     "data": {
      "text/plain": [
       "1"
      ]
     },
     "execution_count": 3,
     "metadata": {},
     "output_type": "execute_result"
    }
   ],
   "source": [
    "grades % 5"
   ]
  },
  {
   "cell_type": "code",
   "execution_count": 15,
   "id": "420852d1-21b2-4891-ada1-754a9c465f71",
   "metadata": {},
   "outputs": [
    {
     "name": "stdout",
     "output_type": "stream",
     "text": [
      "100\n"
     ]
    }
   ],
   "source": [
    "grades = 98\n",
    "rem, temp = 0, 0 \n",
    "if grades < 40:\n",
    "    pass\n",
    "else: \n",
    "    rem = grades % 5\n",
    "    temp = 5 - rem\n",
    "    if rem >= 3:\n",
    "        grades = grades + temp \n",
    "print(grades)"
   ]
  },
  {
   "cell_type": "code",
   "execution_count": 39,
   "id": "428b0732-9331-47bf-9522-def4ca2fa627",
   "metadata": {},
   "outputs": [
    {
     "name": "stdout",
     "output_type": "stream",
     "text": [
      "T : 4\n",
      "L1 : [2, 4, 5, 6]\n",
      "L2 : [8, 7]\n",
      "[8, 7, 2, 4, 5, 6]\n"
     ]
    }
   ],
   "source": [
    "n = [2,4,5,6,7,8]\n",
    "k = 2\n",
    "\n",
    "list_1 = []\n",
    "list_2 = []\n",
    "\n",
    "t = len(n) - k\n",
    "print('T :', t)\n",
    "\n",
    "for i,j in enumerate(n):\n",
    "    if i < t:\n",
    "        list_1.append(j)\n",
    "    else:\n",
    "        list_2.append(j)\n",
    "\n",
    "list_2.reverse()\n",
    "total = list_2 + list_1\n",
    "\n",
    "print('L1 :', list_1)\n",
    "print('L2 :', list_2)\n",
    "print(total)"
   ]
  },
  {
   "cell_type": "code",
   "execution_count": 13,
   "id": "ad913dba-937d-465d-ab7e-8e3db963a597",
   "metadata": {
    "collapsed": true,
    "jupyter": {
     "outputs_hidden": true
    },
    "tags": []
   },
   "outputs": [
    {
     "name": "stdout",
     "output_type": "stream",
     "text": [
      "0 0 0 0\n",
      "0 1 0 1\n",
      "0 1 1 0\n",
      "0 2 0 2\n",
      "0 2 2 0\n",
      "0 3 0 3\n",
      "0 3 3 0\n",
      "0 4 0 4\n",
      "0 4 4 0\n",
      "0 5 0 5\n",
      "0 5 5 0\n",
      "0 6 0 6\n",
      "0 6 6 0\n",
      "0 7 0 7\n",
      "0 7 7 0\n",
      "0 8 0 8\n",
      "0 8 8 0\n",
      "0 9 0 9\n",
      "0 9 9 0\n",
      "1 0 0 1\n",
      "1 0 1 0\n",
      "1 1 1 1\n",
      "1 2 1 2\n",
      "1 2 2 1\n",
      "1 3 1 3\n",
      "1 3 3 1\n",
      "1 4 1 4\n",
      "1 4 4 1\n",
      "1 5 1 5\n",
      "1 5 5 1\n",
      "1 6 1 6\n",
      "1 6 6 1\n",
      "1 7 1 7\n",
      "1 7 7 1\n",
      "1 8 1 8\n",
      "1 8 8 1\n",
      "1 9 1 9\n",
      "1 9 9 1\n",
      "2 0 0 2\n",
      "2 0 2 0\n",
      "2 1 1 2\n",
      "2 1 2 1\n",
      "2 2 2 2\n",
      "2 3 2 3\n",
      "2 3 3 2\n",
      "2 4 2 4\n",
      "2 4 4 2\n",
      "2 5 2 5\n",
      "2 5 5 2\n",
      "2 6 2 6\n",
      "2 6 6 2\n",
      "2 7 2 7\n",
      "2 7 7 2\n",
      "2 8 2 8\n",
      "2 8 8 2\n",
      "2 9 2 9\n",
      "2 9 9 2\n",
      "3 0 0 3\n",
      "3 0 3 0\n",
      "3 1 1 3\n",
      "3 1 3 1\n",
      "3 2 2 3\n",
      "3 2 3 2\n",
      "3 3 3 3\n",
      "3 4 3 4\n",
      "3 4 4 3\n",
      "3 5 3 5\n",
      "3 5 5 3\n",
      "3 6 3 6\n",
      "3 6 6 3\n",
      "3 7 3 7\n",
      "3 7 7 3\n",
      "3 8 3 8\n",
      "3 8 8 3\n",
      "3 9 3 9\n",
      "3 9 9 3\n",
      "4 0 0 4\n",
      "4 0 4 0\n",
      "4 1 1 4\n",
      "4 1 4 1\n",
      "4 2 2 4\n",
      "4 2 4 2\n",
      "4 3 3 4\n",
      "4 3 4 3\n",
      "4 4 4 4\n",
      "4 5 4 5\n",
      "4 5 5 4\n",
      "4 6 4 6\n",
      "4 6 6 4\n",
      "4 7 4 7\n",
      "4 7 7 4\n",
      "4 8 4 8\n",
      "4 8 8 4\n",
      "4 9 4 9\n",
      "4 9 9 4\n",
      "5 0 0 5\n",
      "5 0 5 0\n",
      "5 1 1 5\n",
      "5 1 5 1\n",
      "5 2 2 5\n",
      "5 2 5 2\n",
      "5 3 3 5\n",
      "5 3 5 3\n",
      "5 4 4 5\n",
      "5 4 5 4\n",
      "5 5 5 5\n",
      "5 6 5 6\n",
      "5 6 6 5\n",
      "5 7 5 7\n",
      "5 7 7 5\n",
      "5 8 5 8\n",
      "5 8 8 5\n",
      "5 9 5 9\n",
      "5 9 9 5\n",
      "6 0 0 6\n",
      "6 0 6 0\n",
      "6 1 1 6\n",
      "6 1 6 1\n",
      "6 2 2 6\n",
      "6 2 6 2\n",
      "6 3 3 6\n",
      "6 3 6 3\n",
      "6 4 4 6\n",
      "6 4 6 4\n",
      "6 5 5 6\n",
      "6 5 6 5\n",
      "6 6 6 6\n",
      "6 7 6 7\n",
      "6 7 7 6\n",
      "6 8 6 8\n",
      "6 8 8 6\n",
      "6 9 6 9\n",
      "6 9 9 6\n",
      "7 0 0 7\n",
      "7 0 7 0\n",
      "7 1 1 7\n",
      "7 1 7 1\n",
      "7 2 2 7\n",
      "7 2 7 2\n",
      "7 3 3 7\n",
      "7 3 7 3\n",
      "7 4 4 7\n",
      "7 4 7 4\n",
      "7 5 5 7\n",
      "7 5 7 5\n",
      "7 6 6 7\n",
      "7 6 7 6\n",
      "7 7 7 7\n",
      "7 8 7 8\n",
      "7 8 8 7\n",
      "7 9 7 9\n",
      "7 9 9 7\n",
      "8 0 0 8\n",
      "8 0 8 0\n",
      "8 1 1 8\n",
      "8 1 8 1\n",
      "8 2 2 8\n",
      "8 2 8 2\n",
      "8 3 3 8\n",
      "8 3 8 3\n",
      "8 4 4 8\n",
      "8 4 8 4\n",
      "8 5 5 8\n",
      "8 5 8 5\n",
      "8 6 6 8\n",
      "8 6 8 6\n",
      "8 7 7 8\n",
      "8 7 8 7\n",
      "8 8 8 8\n",
      "8 9 8 9\n",
      "8 9 9 8\n",
      "9 0 0 9\n",
      "9 0 9 0\n",
      "9 1 1 9\n",
      "9 1 9 1\n",
      "9 2 2 9\n",
      "9 2 9 2\n",
      "9 3 3 9\n",
      "9 3 9 3\n",
      "9 4 4 9\n",
      "9 4 9 4\n",
      "9 5 5 9\n",
      "9 5 9 5\n",
      "9 6 6 9\n",
      "9 6 9 6\n",
      "9 7 7 9\n",
      "9 7 9 7\n",
      "9 8 8 9\n",
      "9 8 9 8\n",
      "9 9 9 9\n"
     ]
    }
   ],
   "source": [
    "for a in range(10):\n",
    "    for b in range(10):\n",
    "        for c in range(10):\n",
    "            for d in range(10):\n",
    "                if a**3 + b**3 == c**3 + d**3:\n",
    "                    print(a,b,c,d)\n",
    "                else:\n",
    "                    pass"
   ]
  },
  {
   "cell_type": "code",
   "execution_count": 30,
   "id": "e670a4dc-0ed9-4634-9f2a-32da1c53a57e",
   "metadata": {},
   "outputs": [
    {
     "name": "stdout",
     "output_type": "stream",
     "text": [
      "break s\n",
      "break a\n",
      "break s\n",
      "break d\n"
     ]
    }
   ],
   "source": [
    "arr = list('sasdasdf')\n",
    "count = 0\n",
    "for i in range(len(arr)):\n",
    "    for j in range((i+1),len(arr)):\n",
    "        if arr[i] == arr[j]:\n",
    "            count += 1\n",
    "            if count > 0:\n",
    "                print('break', arr[j])\n",
    "                break\n",
    "        else:\n",
    "            pass"
   ]
  },
  {
   "cell_type": "code",
   "execution_count": 6,
   "id": "9975234a-db2a-4a1a-a50b-1d49e9cb2e9b",
   "metadata": {},
   "outputs": [
    {
     "name": "stdin",
     "output_type": "stream",
     "text": [
      "enter how many passwords you want to generate: 9\n",
      "enter the password length: 19\n"
     ]
    }
   ],
   "source": []
  },
  {
   "cell_type": "code",
   "execution_count": null,
   "id": "4e1c9913-69ca-4588-84f2-ae6b37e9f3be",
   "metadata": {},
   "outputs": [],
   "source": []
  }
 ],
 "metadata": {
  "kernelspec": {
   "display_name": "Python 3 (ipykernel)",
   "language": "python",
   "name": "python3"
  },
  "language_info": {
   "codemirror_mode": {
    "name": "ipython",
    "version": 3
   },
   "file_extension": ".py",
   "mimetype": "text/x-python",
   "name": "python",
   "nbconvert_exporter": "python",
   "pygments_lexer": "ipython3",
   "version": "3.8.12"
  }
 },
 "nbformat": 4,
 "nbformat_minor": 5
}
