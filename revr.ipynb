{
 "cells": [
  {
   "cell_type": "code",
   "execution_count": 1,
   "id": "e732d96e-dbe9-4a02-9e60-2acf9f7fbd70",
   "metadata": {},
   "outputs": [],
   "source": [
    "s = [1,2,5,4,2,1,5,8]"
   ]
  },
  {
   "cell_type": "code",
   "execution_count": 2,
   "id": "2a848b8c-3d2d-481f-a746-c91ae60e3e98",
   "metadata": {},
   "outputs": [
    {
     "name": "stdout",
     "output_type": "stream",
     "text": [
      "0 loop: [1, 2] -- i: 0 i+m: 2\n",
      "1 loop: [2, 5] -- i: 1 i+m: 3\n",
      "2 loop: [5, 4] -- i: 2 i+m: 4\n",
      "3 loop: [4, 2] -- i: 3 i+m: 5\n",
      "4 loop: [2, 1] -- i: 4 i+m: 6\n",
      "5 loop: [1, 5] -- i: 5 i+m: 7\n",
      "6 loop: [5, 8] -- i: 6 i+m: 8\n"
     ]
    }
   ],
   "source": [
    "m = 2\n",
    "n = 8\n",
    "for i in range(len(s)-1):\n",
    "    print(i,'loop:',s[i:i+m],'--','i:',i,'i+m:',i+m)"
   ]
  },
  {
   "cell_type": "code",
   "execution_count": 3,
   "id": "cd8e4879-8d1d-4e44-8b64-a0dcfc7ce1cd",
   "metadata": {},
   "outputs": [
    {
     "data": {
      "text/plain": [
       "[1, 2]"
      ]
     },
     "execution_count": 3,
     "metadata": {},
     "output_type": "execute_result"
    }
   ],
   "source": [
    "s[:m]"
   ]
  },
  {
   "cell_type": "code",
   "execution_count": 4,
   "id": "a1f2dddc-aed4-464e-abb2-1b332c23287c",
   "metadata": {},
   "outputs": [
    {
     "data": {
      "text/plain": [
       "5"
      ]
     },
     "execution_count": 4,
     "metadata": {},
     "output_type": "execute_result"
    }
   ],
   "source": [
    "s[i]"
   ]
  },
  {
   "cell_type": "code",
   "execution_count": 5,
   "id": "8dfc6366-6369-42c7-91c6-a345ca6543a2",
   "metadata": {},
   "outputs": [
    {
     "name": "stdout",
     "output_type": "stream",
     "text": [
      "0 : 1\n",
      "1 : 2\n",
      "2 : 5\n",
      "3 : 4\n",
      "4 : 2\n",
      "5 : 1\n",
      "6 : 5\n",
      "7 : 8\n"
     ]
    }
   ],
   "source": [
    "for i in range(len(s)):\n",
    "    print(i,':',s[i])"
   ]
  },
  {
   "cell_type": "code",
   "execution_count": 6,
   "id": "61794b24-ad46-48f9-89b5-7576646efd3b",
   "metadata": {},
   "outputs": [
    {
     "data": {
      "text/plain": [
       "8"
      ]
     },
     "execution_count": 6,
     "metadata": {},
     "output_type": "execute_result"
    }
   ],
   "source": [
    "s[-1]"
   ]
  },
  {
   "cell_type": "code",
   "execution_count": 7,
   "id": "95715952-865e-486e-8949-44abc2142b3c",
   "metadata": {},
   "outputs": [],
   "source": [
    "import operator\n",
    "a = s\n",
    "elements = {}\n",
    "for i in a:\n",
    "    if i in elements:\n",
    "        elements[i] += 1\n",
    "    else:\n",
    "        elements[i] = 1"
   ]
  },
  {
   "cell_type": "code",
   "execution_count": 8,
   "id": "a3fe0a4d-0711-430d-9111-ef288b33b685",
   "metadata": {},
   "outputs": [
    {
     "name": "stdout",
     "output_type": "stream",
     "text": [
      "{1: 2, 2: 2, 5: 2, 4: 1, 8: 1}\n"
     ]
    }
   ],
   "source": [
    "print(elements)"
   ]
  },
  {
   "cell_type": "code",
   "execution_count": 9,
   "id": "1d161700-9994-453f-87ec-301d03b7eaf6",
   "metadata": {},
   "outputs": [
    {
     "name": "stdout",
     "output_type": "stream",
     "text": [
      "1\n"
     ]
    }
   ],
   "source": [
    "print(max(elements.items(), key = operator.itemgetter(1))[0])"
   ]
  },
  {
   "cell_type": "code",
   "execution_count": 10,
   "id": "b0768019-a815-4b42-b64a-4f07a660fd27",
   "metadata": {},
   "outputs": [
    {
     "data": {
      "text/plain": [
       "2"
      ]
     },
     "execution_count": 10,
     "metadata": {},
     "output_type": "execute_result"
    }
   ],
   "source": [
    "max(elements.values())"
   ]
  },
  {
   "cell_type": "code",
   "execution_count": 11,
   "id": "e722fe1f-542f-465c-b107-befc0dd6a58e",
   "metadata": {},
   "outputs": [
    {
     "name": "stdout",
     "output_type": "stream",
     "text": [
      "1\n",
      "2\n",
      "5\n",
      "4\n",
      "8\n"
     ]
    }
   ],
   "source": [
    "for key, value in elements.items():\n",
    "    print(key)"
   ]
  },
  {
   "cell_type": "code",
   "execution_count": 12,
   "id": "410ede9d-a8bd-4e3c-956f-8d0565d91de0",
   "metadata": {},
   "outputs": [
    {
     "data": {
      "text/plain": [
       "1"
      ]
     },
     "execution_count": 12,
     "metadata": {},
     "output_type": "execute_result"
    }
   ],
   "source": [
    "max(elements, key=elements.get)"
   ]
  },
  {
   "cell_type": "code",
   "execution_count": 13,
   "id": "94748768-e4b5-4647-8e39-856a482637d9",
   "metadata": {
    "tags": []
   },
   "outputs": [
    {
     "name": "stdout",
     "output_type": "stream",
     "text": [
      "2002\n",
      "2009\n",
      "2016\n",
      "2023\n",
      "2037\n",
      "2044\n",
      "2051\n",
      "2058\n",
      "2072\n",
      "2079\n",
      "2086\n",
      "2093\n",
      "2107\n",
      "2114\n",
      "2121\n",
      "2128\n",
      "2142\n",
      "2149\n",
      "2156\n",
      "2163\n",
      "2177\n",
      "2184\n",
      "2191\n",
      "2198\n",
      "2212\n",
      "2219\n",
      "2226\n",
      "2233\n",
      "2247\n",
      "2254\n",
      "2261\n",
      "2268\n",
      "2282\n",
      "2289\n",
      "2296\n",
      "2303\n",
      "2317\n",
      "2324\n",
      "2331\n",
      "2338\n",
      "2352\n",
      "2359\n",
      "2366\n",
      "2373\n",
      "2387\n",
      "2394\n",
      "2401\n",
      "2408\n",
      "2422\n",
      "2429\n",
      "2436\n",
      "2443\n",
      "2457\n",
      "2464\n",
      "2471\n",
      "2478\n",
      "2492\n",
      "2499\n",
      "2506\n",
      "2513\n",
      "2527\n",
      "2534\n",
      "2541\n",
      "2548\n",
      "2562\n",
      "2569\n",
      "2576\n",
      "2583\n",
      "2597\n",
      "2604\n",
      "2611\n",
      "2618\n",
      "2632\n",
      "2639\n",
      "2646\n",
      "2653\n",
      "2667\n",
      "2674\n",
      "2681\n",
      "2688\n",
      "2702\n",
      "2709\n",
      "2716\n",
      "2723\n",
      "2737\n",
      "2744\n",
      "2751\n",
      "2758\n",
      "2772\n",
      "2779\n",
      "2786\n",
      "2793\n",
      "2807\n",
      "2814\n",
      "2821\n",
      "2828\n",
      "2842\n",
      "2849\n",
      "2856\n",
      "2863\n",
      "2877\n",
      "2884\n",
      "2891\n",
      "2898\n",
      "2912\n",
      "2919\n",
      "2926\n",
      "2933\n",
      "2947\n",
      "2954\n",
      "2961\n",
      "2968\n",
      "2982\n",
      "2989\n",
      "2996\n",
      "3003\n",
      "3017\n",
      "3024\n",
      "3031\n",
      "3038\n",
      "3052\n",
      "3059\n",
      "3066\n",
      "3073\n",
      "3087\n",
      "3094\n",
      "3101\n",
      "3108\n",
      "3122\n",
      "3129\n",
      "3136\n",
      "3143\n",
      "3157\n",
      "3164\n",
      "3171\n",
      "3178\n",
      "3192\n",
      "3199\n"
     ]
    }
   ],
   "source": [
    "for i in range(2000, 3201):\n",
    "    if i%7 == 0 and i%5 != 0:\n",
    "        print(i)"
   ]
  },
  {
   "cell_type": "code",
   "execution_count": 14,
   "id": "135b7d50-1c7f-41cd-a01a-ab8ded42be70",
   "metadata": {},
   "outputs": [],
   "source": [
    "def fact(a):\n",
    "    if a < 0:\n",
    "        return 'error'\n",
    "    if a == 1:\n",
    "        return 1\n",
    "    else:\n",
    "        return a * fact(a-1)"
   ]
  },
  {
   "cell_type": "code",
   "execution_count": 15,
   "id": "20a517bf-94a6-45fe-9422-87ca42c49993",
   "metadata": {},
   "outputs": [
    {
     "data": {
      "text/plain": [
       "40320"
      ]
     },
     "execution_count": 15,
     "metadata": {},
     "output_type": "execute_result"
    }
   ],
   "source": [
    "fact(8)"
   ]
  },
  {
   "cell_type": "code",
   "execution_count": 16,
   "id": "7782b912-1221-446d-8638-6f224a282c88",
   "metadata": {},
   "outputs": [
    {
     "name": "stdout",
     "output_type": "stream",
     "text": [
      "{1: 1, 2: 4, 3: 9, 4: 16, 5: 25, 6: 36, 7: 49, 8: 64}\n"
     ]
    }
   ],
   "source": [
    "m = 8\n",
    "d = {}\n",
    "for i in range(1,9):\n",
    "    d[i] = i*i\n",
    "print(d)"
   ]
  },
  {
   "cell_type": "code",
   "execution_count": 17,
   "id": "9064a16b-c39d-4261-b5fa-97969959ffdd",
   "metadata": {},
   "outputs": [
    {
     "name": "stdout",
     "output_type": "stream",
     "text": [
      "[34, 67, 55, 33, 12, 98]\n",
      "(34, 67, 55, 33, 12, 98)\n"
     ]
    }
   ],
   "source": [
    "value = 34,67,55,33,12,98\n",
    "l = list(value)\n",
    "t = tuple(value)\n",
    "print(l)\n",
    "print(t)"
   ]
  }
 ],
 "metadata": {
  "kernelspec": {
   "display_name": "Python 3 (ipykernel)",
   "language": "python",
   "name": "python3"
  },
  "language_info": {
   "codemirror_mode": {
    "name": "ipython",
    "version": 3
   },
   "file_extension": ".py",
   "mimetype": "text/x-python",
   "name": "python",
   "nbconvert_exporter": "python",
   "pygments_lexer": "ipython3",
   "version": "3.8.12"
  }
 },
 "nbformat": 4,
 "nbformat_minor": 5
}
